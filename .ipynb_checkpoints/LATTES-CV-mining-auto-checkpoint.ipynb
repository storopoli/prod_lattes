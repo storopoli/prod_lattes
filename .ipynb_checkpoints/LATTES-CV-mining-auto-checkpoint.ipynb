{
 "cells": [
  {
   "cell_type": "code",
   "execution_count": 63,
   "metadata": {},
   "outputs": [],
   "source": [
    "#Importar bibliotecas\n",
    "import numpy as np\n",
    "import pandas as pd\n",
    "from lxml import html\n",
    "import re\n",
    "import requests\n",
    "from bs4 import BeautifulSoup\n",
    "import difflib"
   ]
  },
  {
   "cell_type": "code",
   "execution_count": 2,
   "metadata": {},
   "outputs": [],
   "source": [
    "#importar lista e lattes do arquivo listalattes.xlsx\n",
    "ExcelFileName= 'listalattes.xlsx'\n",
    "list_lattes = pd.read_excel(ExcelFileName, header= None, index_col= None)\n",
    "list_lattes = list_lattes[0]"
   ]
  },
  {
   "cell_type": "code",
   "execution_count": 3,
   "metadata": {},
   "outputs": [],
   "source": [
    "temp_df = pd.DataFrame()\n",
    "for row in list_lattes:\n",
    "    url = row\n",
    "    page = requests.get(url)\n",
    "    #Parse o HTML\n",
    "    soup = BeautifulSoup(page.text, 'html.parser')\n",
    "    #Achar nome do titular do CV Lattes\n",
    "    name = soup.find(class_='nome')\n",
    "    name = name.text\n",
    "    #Achar todos os artigos completos publicados em periodicos\n",
    "    tb = soup.find_all('div', class_='artigo-completo')  \n",
    "    #fazer uma lista com cada um dos artigos completos\n",
    "    prod = []\n",
    "    for i in tb:\n",
    "        prod.append(i.text)\n",
    "        #split da lista\n",
    "        _ = [i.split('\\s\\d{1,2}\\.\\s', 1)[0] for i in prod]\n",
    "        #remover duplicados de cada artigo\n",
    "        prod = [re.sub('\\n\\d{1,2}\\.', '', i) for i in prod]\n",
    "        prod = [re.sub('\\n', '', i) for i in prod]\n",
    "        prod = [re.sub('.*\\.\\d{4}', '',i) for i in prod]\n",
    "        prod = [re.sub('\\d{1,2}\\w*\\,\\s\\w*\\B\\d{4}', '',i) for i in prod]\n",
    "        prod = [re.sub('\\d{1,2}\\w{2,}\\s\\w{2,}\\d{4}', '',i) for i in prod]\n",
    "        prod = [re.sub('\\w{2,}\\s\\w{2,}\\,\\s[\\wÀ-ú]*\\d{4}', '',i) for i in prod]\n",
    "        prod = [re.sub('\\w{2,}\\,\\s[\\wÀ-ú]*\\s[\\wÀ-ú]*\\d{4}', '',i) for i in prod]\n",
    "        #duplicar o nome para o tamanho da lista dos artigos publicados\n",
    "    name_list = [name] * len(prod)\n",
    "    new_df = pd.DataFrame({'Nome': name_list, 'ArtigosCompletos':prod})\n",
    "    temp_df = temp_df.append(new_df, ignore_index=True)"
   ]
  },
  {
   "cell_type": "code",
   "execution_count": 177,
   "metadata": {},
   "outputs": [],
   "source": [
    "#importar df do qualis dos periodicos da area\n",
    "#nao modificar o nome do xls baixado do Sucupira\n",
    "#abrir o arquivo no excel em Windows e salvar como .xlsx\n",
    "qualis = pd.read_excel('classificacoes_publicadas_planejamento_urbano_e_regional_demografia_2017_1496941695959.xls.xlsx')\n",
    "temp_df['periodicos'] = \"\"\n",
    "L1 = temp_df.ArtigosCompletos\n",
    "L2 = qualis.Título\n",
    "#se atentar ao terceiro argumento da get_close_matches que eh o cutoff\n",
    "temp_df['periodicos'] = [difflib.get_close_matches(i, L2, 1, 0.01) for i in L1]"
   ]
  },
  {
   "cell_type": "code",
   "execution_count": 178,
   "metadata": {},
   "outputs": [
    {
     "name": "stdout",
     "output_type": "stream",
     "text": [
      "(353, 3)\n"
     ]
    },
    {
     "data": {
      "text/plain": [
       "0                           [MARINE POLLUTION BULLETIN.]\n",
       "1                           [MARINE POLLUTION BULLETIN.]\n",
       "2        [ENVIRONMENTAL RESEARCH (NEW YORK, N.Y. PRINT)]\n",
       "3            [RAI : REVISTA DE ADMINISTRAÇÃO E INOVAÇÃO]\n",
       "4      [REVISTA BRASILEIRA DE PSIQUIATRIA (SÃO PAULO....\n",
       "5      [BOLETIM DE PESQUISA E DESENVOLVIMENTO (CENTRO...\n",
       "6                     [FÓRUM AMBIENTAL DA ALTA PAULISTA]\n",
       "7      [REVISTA BRASILEIRA DE PSIQUIATRIA (SÃO PAULO....\n",
       "8                                   [REVISTA UNIANDRADE]\n",
       "9      [THE INTERNATIONAL ARCHIVES OF THE PHOTOGRAMME...\n",
       "10               [PUBLIC HEALTH NUTRITION (WALLINGFORD)]\n",
       "11     [ANAIS DO MUSEU PAULISTA: HISTÓRIA, CULTURA E ...\n",
       "12         [PESQUISA & DEBATE (SÃO PAULO. 1985. ONLINE)]\n",
       "13     [REVISTA DA ESCOLA DE GUERRA NAVAL (ED. PORTUG...\n",
       "14     [INTERNATIONAL JOURNAL OF COMPUTER AND INFORMA...\n",
       "15                    [ALBUQUERQUE: REVISTA DE HISTÓRIA]\n",
       "16                       [JOURNAL OF AGRONOMIC SCIENCES]\n",
       "17                   [REDES (SANTA CRUZ DO SUL. ONLINE)]\n",
       "18     [REVISTA PROCURADORIA-GERAL DO MUNICÍPIO DE PO...\n",
       "19                            [REVISTA CERES (Impresso)]\n",
       "20     [ANUARIO DE LA SEGURIDAD REGIONAL EN AMÉRICA L...\n",
       "21     [REVUE DE LA REGULATION: CAPITALISME, INSTITUT...\n",
       "22               [REVISTA JURIDICA (PORTO ALEGRE. 1953)]\n",
       "23      [LINHA MESTRA (ASSOCIAÇÃO DE LEITURA DO BRASIL)]\n",
       "24     [BRAZILIAN ARCHIVES OF BIOLOGY AND TECHNOLOGY ...\n",
       "25        [AFRICAN JOURNAL OF PHARMACY AND PHARMACOLOGY]\n",
       "26     [ACTA SCIENTIARUM. HUMAN AND SOCIAL SCIENCES (...\n",
       "27                       [IDS BULLETIN (BRIGHTON. 1984)]\n",
       "28                     [MONTHLY REVIEW (NEW YORK. 1949)]\n",
       "29         [RGO. REVISTA GESTÃO ORGANIZACIONAL (ONLINE)]\n",
       "                             ...                        \n",
       "323       [REVISTA NACIONAL DE GERENCIAMENTO DE CIDADES]\n",
       "324        [REVISTA GESTÃO & SUSTENTABILIDADE AMBIENTAL]\n",
       "325    [BBR. BRAZILIAN BUSINESS REVIEW (EDIÇÃO EM POR...\n",
       "326    [IEEE JOURNAL OF SELECTED TOPICS IN APPLIED EA...\n",
       "327                       [REVISTA DE DIREITO DA CIDADE]\n",
       "328    [REVISTA BRASILEIRA DE PSIQUIATRIA (SÃO PAULO....\n",
       "329    [REVISTA ELETRÔNICA DO MESTRADO PROFISSIONAL E...\n",
       "330    [DE-ARQ - REVISTA DE ARQUITETURA DE LA UNIVERS...\n",
       "331        [PESQUISA & DEBATE (SÃO PAULO. 1985. ONLINE)]\n",
       "332    [ANÁLISE SOCIAL - REVISTA DO INSTITUTO DE CIÊN...\n",
       "333    [REVISTA BRASILEIRA DE EDUCAÇÃO DE JOVENS E AD...\n",
       "334    [AEDOS: REVISTA DO CORPO DISCENTE DO PROGRAMA ...\n",
       "335    [REVISTA V@RVITU - REVISTA DE CIÊNCIA, TECNOLO...\n",
       "336    [REVISTA BRASILEIRA DE PSIQUIATRIA (SÃO PAULO....\n",
       "337       [AFRICAN JOURNAL OF PHARMACY AND PHARMACOLOGY]\n",
       "338    [REVISTA BRASILEIRA DE PSIQUIATRIA (SÃO PAULO....\n",
       "339                [JOURNAL OF HYDROMETEOROLOGY (PRINT)]\n",
       "340      [MOLECULAR PHYLOGENETICS AND EVOLUTION (PRINT)]\n",
       "341    [IEEE JOURNAL OF SELECTED TOPICS IN APPLIED EA...\n",
       "342    [ANUARIO DE LA SEGURIDAD REGIONAL EN AMÉRICA L...\n",
       "343    [INTERNATIONAL JOURNAL OF SUSTAINABLE ENERGY (...\n",
       "344                           [REVISTA CERES (Impresso)]\n",
       "345                 [AMAZÔNIA (BANCO DA AMAZÔNIA. 2005)]\n",
       "346    [REVISTA BRASILEIRA DE PSIQUIATRIA (SÃO PAULO....\n",
       "347    [IDÉIAS - REVISTA DO INSTITUTO DE FILOSOFIA E ...\n",
       "348    [BOLETIM DO CENTRO DE PESQUISA E PROCESSAMENTO...\n",
       "349    [REVISTA BRASILEIRA DE ESTUDOS DE POPULAÇÃO (I...\n",
       "350    [REVISTA BRASILEIRA DE PSIQUIATRIA (SÃO PAULO....\n",
       "351    [REVISTA BRASILEIRA DE PSIQUIATRIA (SÃO PAULO....\n",
       "352                           [OCULUM ENSAIOS (PUCCAMP)]\n",
       "Name: periodicos, Length: 353, dtype: object"
      ]
     },
     "execution_count": 178,
     "metadata": {},
     "output_type": "execute_result"
    }
   ],
   "source": [
    "print(temp_df.shape)\n",
    "temp_df.head()\n",
    "temp_df.periodicos"
   ]
  },
  {
   "cell_type": "code",
   "execution_count": 179,
   "metadata": {},
   "outputs": [],
   "source": [
    "temp_df.to_excel('prod.xlsx')"
   ]
  },
  {
   "cell_type": "code",
   "execution_count": null,
   "metadata": {},
   "outputs": [],
   "source": []
  }
 ],
 "metadata": {
  "kernelspec": {
   "display_name": "Python 3",
   "language": "python",
   "name": "python3"
  },
  "language_info": {
   "codemirror_mode": {
    "name": "ipython",
    "version": 3
   },
   "file_extension": ".py",
   "mimetype": "text/x-python",
   "name": "python",
   "nbconvert_exporter": "python",
   "pygments_lexer": "ipython3",
   "version": "3.6.6"
  }
 },
 "nbformat": 4,
 "nbformat_minor": 2
}
