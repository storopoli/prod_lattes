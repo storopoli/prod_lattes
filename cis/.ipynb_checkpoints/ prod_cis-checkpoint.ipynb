{
 "cells": [
  {
   "cell_type": "code",
   "execution_count": 1,
   "metadata": {},
   "outputs": [],
   "source": [
    "#importar bibliotecas\n",
    "import numpy as np\n",
    "import pandas as pd\n",
    "from lxml import html\n",
    "import re\n",
    "import requests\n",
    "from bs4 import BeautifulSoup\n",
    "import difflib"
   ]
  },
  {
   "cell_type": "code",
   "execution_count": 2,
   "metadata": {},
   "outputs": [
    {
     "data": {
      "text/plain": [
       "0     http://lattes.cnpq.br/3410710553298468\n",
       "1     http://lattes.cnpq.br/2503278782954156\n",
       "2     http://lattes.cnpq.br/9619504618003187\n",
       "3     http://lattes.cnpq.br/9287861770521337\n",
       "4     http://lattes.cnpq.br/2098643827162361\n",
       "5     http://lattes.cnpq.br/6214289236131303\n",
       "6     http://lattes.cnpq.br/8140882954837573\n",
       "7     http://lattes.cnpq.br/7933402277545891\n",
       "8     http://lattes.cnpq.br/2281909649311607\n",
       "9     http://lattes.cnpq.br/2089341893296080\n",
       "10    http://lattes.cnpq.br/0969838199511588\n",
       "11    http://lattes.cnpq.br/2145753478351346\n",
       "12    http://lattes.cnpq.br/5664558410139621\n",
       "13    http://lattes.cnpq.br/9164867295710218\n",
       "Name: 0, dtype: object"
      ]
     },
     "execution_count": 2,
     "metadata": {},
     "output_type": "execute_result"
    }
   ],
   "source": [
    "#importar lista e lattes do arquivo listalattes.xlsx\n",
    "list_lattes = pd.read_excel('listalattes.xlsx', header= None, index_col= None)   \n",
    "list_lattes = list_lattes[0]\n",
    "list_lattes"
   ]
  },
  {
   "cell_type": "code",
   "execution_count": 5,
   "metadata": {},
   "outputs": [
    {
     "name": "stdout",
     "output_type": "stream",
     "text": [
      "Linhas Ano:  36\n",
      "Linhas ISSN:  36\n",
      "Linhas Prod:  36\n",
      "Linhas Ano:  54\n",
      "Linhas ISSN:  54\n",
      "Linhas Prod:  54\n",
      "Linhas Ano:  0\n",
      "Linhas ISSN:  0\n",
      "Linhas Prod:  0\n",
      "Linhas Ano:  16\n",
      "Linhas ISSN:  16\n",
      "Linhas Prod:  16\n",
      "Linhas Ano:  12\n",
      "Linhas ISSN:  12\n",
      "Linhas Prod:  12\n",
      "Linhas Ano:  38\n",
      "Linhas ISSN:  38\n",
      "Linhas Prod:  38\n",
      "Linhas Ano:  51\n",
      "Linhas ISSN:  51\n",
      "Linhas Prod:  51\n",
      "Linhas Ano:  34\n",
      "Linhas ISSN:  34\n",
      "Linhas Prod:  34\n",
      "Linhas Ano:  17\n",
      "Linhas ISSN:  17\n",
      "Linhas Prod:  17\n",
      "Linhas Ano:  1\n",
      "Linhas ISSN:  1\n",
      "Linhas Prod:  1\n",
      "Linhas Ano:  11\n",
      "Linhas ISSN:  11\n",
      "Linhas Prod:  11\n",
      "Linhas Ano:  39\n",
      "Linhas ISSN:  39\n",
      "Linhas Prod:  39\n",
      "Linhas Ano:  17\n",
      "Linhas ISSN:  17\n",
      "Linhas Prod:  17\n",
      "Linhas Ano:  27\n",
      "Linhas ISSN:  27\n",
      "Linhas Prod:  27\n"
     ]
    }
   ],
   "source": [
    "prod_df = pd.DataFrame()\n",
    "for row in list_lattes:\n",
    "    url = row\n",
    "    page = requests.get(url)\n",
    "    #Parse o HTML\n",
    "    soup = BeautifulSoup(page.text, 'html.parser')\n",
    "    #Achar nome do titular do CV Lattes\n",
    "    name = soup.find(class_='nome')\n",
    "    name = name.text\n",
    "    #Achar todos os artigos completos publicados em periodicos\n",
    "    tb = soup.find_all('div', class_='artigo-completo') \n",
    "    #fazer uma lista com cada um dos anos e ISSN\n",
    "    ano=[]\n",
    "    for i in tb:\n",
    "        inf_ano = i.find_all('span', class_='informacao-artigo')[2]\n",
    "        ano.append(inf_ano.text)\n",
    "    issn=[]\n",
    "    for i in tb:\n",
    "        try:\n",
    "            inf_issn = i.img.get('data-issn')\n",
    "        except AttributeError:\n",
    "            issn.append(None)\n",
    "        else:\n",
    "            issn.append(inf_issn)\n",
    "    #fazer uma lista com cada um dos artigos completos\n",
    "    prod = []\n",
    "    for i in tb:\n",
    "        prod.append(i.text)\n",
    "    print('Linhas Prod de ', name, ': ', len(prod))\n",
    "    #remover duplicados de cada artigo\n",
    "    prod = [re.sub('\\n\\d{1,2}\\.', '', i) for i in prod]\n",
    "    prod = [re.sub('\\n', '', i) for i in prod]\n",
    "    prod = [re.sub('.*\\.\\d{4}', '',i) for i in prod]\n",
    "    prod = [re.sub('\\d{1,2}\\w*\\,\\s\\w*\\B\\d{4}', '',i) for i in prod]\n",
    "    prod = [re.sub('\\d{1,2}\\w{2,}\\s\\w{2,}\\d{4}', '',i) for i in prod]\n",
    "    prod = [re.sub('\\w{2,}\\s\\w{2,}\\,\\s[\\wÀ-ú]*\\d{4}', '',i) for i in prod]\n",
    "    prod = [re.sub('\\w{2,}\\,\\s[\\wÀ-ú]*\\s[\\wÀ-ú]*\\d{4}', '',i) for i in prod]\n",
    "    #duplicar o nome para o tamanho da lista dos artigos publicados\n",
    "    name_list = [name] * len(prod)\n",
    "    new_df = pd.DataFrame(\n",
    "    {'Nome': name_list,\n",
    "     'Ano': ano,\n",
    "     'ArtigosCompletos': prod,\n",
    "     'ISSN': issn\n",
    "    })\n",
    "    prod_df = prod_df.append(new_df, ignore_index=True)"
   ]
  },
  {
   "cell_type": "code",
   "execution_count": 8,
   "metadata": {},
   "outputs": [],
   "source": [
    "#importar df do qualis dos periodicos da area\n",
    "#nao modificar o nome do xls baixado do Sucupira\n",
    "qualis = pd.read_table(\n",
    "    'classificacoes_publicadas_planejamento_urbano_e_regional_demografia_2017_1496941695959.xls',\n",
    "                       encoding='latin_1')"
   ]
  },
  {
   "cell_type": "code",
   "execution_count": 26,
   "metadata": {},
   "outputs": [
    {
     "data": {
      "text/plain": [
       "0    0025-326X\n",
       "1    0025-326X\n",
       "2    0013-9351\n",
       "3    1809-2039\n",
       "4    1664-462X\n",
       "Name: ISSN, dtype: object"
      ]
     },
     "execution_count": 26,
     "metadata": {},
     "output_type": "execute_result"
    }
   ],
   "source": [
    "#Enfiar Hifen no ISSN\n",
    "prod_df['ISSN'] = prod_df.ISSN.str[:4] + '-' + prod_df.ISSN.str[4:]"
   ]
  },
  {
   "cell_type": "code",
   "execution_count": 36,
   "metadata": {},
   "outputs": [
    {
     "data": {
      "text/html": [
       "<div>\n",
       "<style scoped>\n",
       "    .dataframe tbody tr th:only-of-type {\n",
       "        vertical-align: middle;\n",
       "    }\n",
       "\n",
       "    .dataframe tbody tr th {\n",
       "        vertical-align: top;\n",
       "    }\n",
       "\n",
       "    .dataframe thead th {\n",
       "        text-align: right;\n",
       "    }\n",
       "</style>\n",
       "<table border=\"1\" class=\"dataframe\">\n",
       "  <thead>\n",
       "    <tr style=\"text-align: right;\">\n",
       "      <th></th>\n",
       "      <th>Nome</th>\n",
       "      <th>Ano</th>\n",
       "      <th>ArtigosCompletos</th>\n",
       "      <th>ISSN</th>\n",
       "      <th>Título</th>\n",
       "      <th>Estrato</th>\n",
       "    </tr>\n",
       "  </thead>\n",
       "  <tbody>\n",
       "    <tr>\n",
       "      <th>0</th>\n",
       "      <td>Andreza Portella Ribeiro</td>\n",
       "      <td>2018</td>\n",
       "      <td>TRAMONTE, KEILA MODESTO ; Figueira, Rubens Ce...</td>\n",
       "      <td>0025-326X</td>\n",
       "      <td>MARINE POLLUTION BULLETIN.</td>\n",
       "      <td>A2</td>\n",
       "    </tr>\n",
       "    <tr>\n",
       "      <th>1</th>\n",
       "      <td>Andreza Portella Ribeiro</td>\n",
       "      <td>2018</td>\n",
       "      <td>TREVIZANI, TAILISI HOPPE ; PETTI, MONICA ANGE...</td>\n",
       "      <td>0025-326X</td>\n",
       "      <td>MARINE POLLUTION BULLETIN.</td>\n",
       "      <td>A2</td>\n",
       "    </tr>\n",
       "    <tr>\n",
       "      <th>2</th>\n",
       "      <td>Andreza Portella Ribeiro</td>\n",
       "      <td>2017</td>\n",
       "      <td>LAMANO FERREIRA, MAURÍCIO ; PORTELLA RIBEIRO,...</td>\n",
       "      <td>0013-9351</td>\n",
       "      <td>ENVIRONMENTAL RESEARCH (NEW YORK, N.Y. PRINT)</td>\n",
       "      <td>A1</td>\n",
       "    </tr>\n",
       "    <tr>\n",
       "      <th>3</th>\n",
       "      <td>Andreza Portella Ribeiro</td>\n",
       "      <td>2017</td>\n",
       "      <td>RUIZ, MAURO SILVA ; COSTA, PRISCILA REZENDE D...</td>\n",
       "      <td>1809-2039</td>\n",
       "      <td>RAI : REVISTA DE ADMINISTRAÇÃO E INOVAÇÃO</td>\n",
       "      <td>B1</td>\n",
       "    </tr>\n",
       "    <tr>\n",
       "      <th>4</th>\n",
       "      <td>Andreza Portella Ribeiro</td>\n",
       "      <td>2017</td>\n",
       "      <td>FERREIRA, ANGÉLICA B. ; Ribeiro, Andreza P. ; ...</td>\n",
       "      <td>1664-462X</td>\n",
       "      <td>NaN</td>\n",
       "      <td>NaN</td>\n",
       "    </tr>\n",
       "  </tbody>\n",
       "</table>\n",
       "</div>"
      ],
      "text/plain": [
       "                       Nome   Ano  \\\n",
       "0  Andreza Portella Ribeiro  2018   \n",
       "1  Andreza Portella Ribeiro  2018   \n",
       "2  Andreza Portella Ribeiro  2017   \n",
       "3  Andreza Portella Ribeiro  2017   \n",
       "4  Andreza Portella Ribeiro  2017   \n",
       "\n",
       "                                    ArtigosCompletos       ISSN  \\\n",
       "0   TRAMONTE, KEILA MODESTO ; Figueira, Rubens Ce...  0025-326X   \n",
       "1   TREVIZANI, TAILISI HOPPE ; PETTI, MONICA ANGE...  0025-326X   \n",
       "2   LAMANO FERREIRA, MAURÍCIO ; PORTELLA RIBEIRO,...  0013-9351   \n",
       "3   RUIZ, MAURO SILVA ; COSTA, PRISCILA REZENDE D...  1809-2039   \n",
       "4  FERREIRA, ANGÉLICA B. ; Ribeiro, Andreza P. ; ...  1664-462X   \n",
       "\n",
       "                                          Título Estrato  \n",
       "0                     MARINE POLLUTION BULLETIN.      A2  \n",
       "1                     MARINE POLLUTION BULLETIN.      A2  \n",
       "2  ENVIRONMENTAL RESEARCH (NEW YORK, N.Y. PRINT)      A1  \n",
       "3      RAI : REVISTA DE ADMINISTRAÇÃO E INOVAÇÃO      B1  \n",
       "4                                            NaN     NaN  "
      ]
     },
     "execution_count": 36,
     "metadata": {},
     "output_type": "execute_result"
    }
   ],
   "source": [
    "#Pegar o qualis respectivo de cara periodico da area\n",
    "prod_df = prod_df.merge(qualis, on='ISSN', how='left')"
   ]
  },
  {
   "cell_type": "code",
   "execution_count": 37,
   "metadata": {},
   "outputs": [],
   "source": [
    "#Usar um dicionario para computar a pontuação \n",
    "pontuacao={\n",
    "    'A1':100,\n",
    "    'A2':85,\n",
    "    'B1':70,\n",
    "    'B2':50,\n",
    "    'B3':40,\n",
    "    'B4':20,\n",
    "    'B5':10\n",
    "}\n",
    "prod_df['pontuacao'] = prod_df.Estrato.apply(lambda x: pontuacao.get(x))"
   ]
  },
  {
   "cell_type": "code",
   "execution_count": 39,
   "metadata": {},
   "outputs": [],
   "source": [
    "#exportar para Excel XLSX\n",
    "prod_df.to_excel('prod_cis.xlsx')"
   ]
  }
 ],
 "metadata": {
  "kernelspec": {
   "display_name": "Python 3",
   "language": "python",
   "name": "python3"
  },
  "language_info": {
   "codemirror_mode": {
    "name": "ipython",
    "version": 3
   },
   "file_extension": ".py",
   "mimetype": "text/x-python",
   "name": "python",
   "nbconvert_exporter": "python",
   "pygments_lexer": "ipython3",
   "version": "3.6.6"
  }
 },
 "nbformat": 4,
 "nbformat_minor": 2
}
