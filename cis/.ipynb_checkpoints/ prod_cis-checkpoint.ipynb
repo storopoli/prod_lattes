{
 "cells": [
  {
   "cell_type": "code",
   "execution_count": 1,
   "metadata": {},
   "outputs": [],
   "source": [
    "#importar bibliotecas\n",
    "import numpy as np\n",
    "import pandas as pd\n",
    "from lxml import html\n",
    "import re\n",
    "import requests\n",
    "from bs4 import BeautifulSoup\n",
    "import difflib"
   ]
  },
  {
   "cell_type": "code",
   "execution_count": 2,
   "metadata": {},
   "outputs": [
    {
     "name": "stdout",
     "output_type": "stream",
     "text": [
      "14 - CV Lattes para avaliação\n"
     ]
    }
   ],
   "source": [
    "#importar lista e lattes do arquivo listalattes.xlsx\n",
    "list_lattes = pd.read_excel('listalattes.xlsx', header= None, index_col= None)   \n",
    "list_lattes = list_lattes[0]\n",
    "print(len(list_lattes), '- CV Lattes para avaliação')"
   ]
  },
  {
   "cell_type": "code",
   "execution_count": 3,
   "metadata": {},
   "outputs": [
    {
     "name": "stdout",
     "output_type": "stream",
     "text": [
      "Linhas Prod de  Andreza Portella Ribeiro :  37\n",
      "Linhas Prod de  Carlos Leite de Souza :  53\n",
      "Linhas Prod de  Cintia Elisa de Castro Marino :  0\n",
      "Linhas Prod de  Cristiano Capellani Quaresma :  17\n",
      "Linhas Prod de  Diego de Melo Conti :  13\n",
      "Linhas Prod de  Heidy Rodriguez Ramos :  40\n",
      "Linhas Prod de  Humberto Dantas de Mizuca :  52\n",
      "Linhas Prod de  João Alexandre Paschoalin Filho :  34\n",
      "Linhas Prod de  José Eduardo Storopoli :  19\n",
      "Linhas Prod de  Jose Ricardo Marar :  1\n",
      "Linhas Prod de  Luís Fernando Massonetto :  11\n",
      "Linhas Prod de  Maurício Lamano Ferreira :  39\n",
      "Linhas Prod de  Tatiana Tucunduva Philippi Cortese :  17\n",
      "Linhas Prod de  Wilson Levy Braga da Silva Neto :  28\n"
     ]
    }
   ],
   "source": [
    "prod_df = pd.DataFrame()\n",
    "for row in list_lattes:\n",
    "    url = row\n",
    "    page = requests.get(url)\n",
    "    #Parse o HTML\n",
    "    soup = BeautifulSoup(page.text, 'html.parser')\n",
    "    #Achar nome do titular do CV Lattes\n",
    "    name = soup.find(class_='nome')\n",
    "    name = name.text\n",
    "    #Achar todos os artigos completos publicados em periodicos\n",
    "    tb = soup.find_all('div', class_='artigo-completo') \n",
    "    #fazer uma lista com cada um dos anos e ISSN\n",
    "    ano=[]\n",
    "    for i in tb:\n",
    "        inf_ano = i.find_all('span', class_='informacao-artigo')[2]\n",
    "        ano.append(inf_ano.text)\n",
    "    issn=[]\n",
    "    for i in tb:\n",
    "        try:\n",
    "            inf_issn = i.img.get('data-issn')\n",
    "        except AttributeError:\n",
    "            issn.append(None)\n",
    "        else:\n",
    "            issn.append(inf_issn)\n",
    "    #fazer uma lista com cada um dos artigos completos\n",
    "    prod = []\n",
    "    for i in tb:\n",
    "        prod.append(i.text)\n",
    "    print('Linhas Prod de ', name, ': ', len(prod))\n",
    "    #remover duplicados de cada artigo\n",
    "    prod = [re.sub('\\n\\d{1,2}\\.', '', i) for i in prod]\n",
    "    prod = [re.sub('\\n', '', i) for i in prod]\n",
    "    prod = [re.sub('.*\\.\\d{4}', '',i) for i in prod]\n",
    "    prod = [re.sub('\\d{1,2}\\w*\\,\\s\\w*\\B\\d{4}', '',i) for i in prod]\n",
    "    prod = [re.sub('\\d{1,2}\\w{2,}\\s\\w{2,}\\d{4}', '',i) for i in prod]\n",
    "    prod = [re.sub('\\w{2,}\\s\\w{2,}\\,\\s[\\wÀ-ú]*\\d{4}', '',i) for i in prod]\n",
    "    prod = [re.sub('\\w{2,}\\,\\s[\\wÀ-ú]*\\s[\\wÀ-ú]*\\d{4}', '',i) for i in prod]\n",
    "    #duplicar o nome para o tamanho da lista dos artigos publicados\n",
    "    name_list = [name] * len(prod)\n",
    "    new_df = pd.DataFrame(\n",
    "    {'Nome': name_list,\n",
    "     'Ano': ano,\n",
    "     'ArtigosCompletos': prod,\n",
    "     'ISSN': issn\n",
    "    })\n",
    "    prod_df = prod_df.append(new_df, ignore_index=True)"
   ]
  },
  {
   "cell_type": "code",
   "execution_count": 4,
   "metadata": {},
   "outputs": [],
   "source": [
    "#importar df do qualis dos periodicos da area\n",
    "#nao modificar o nome do xls baixado do Sucupira\n",
    "qualis = pd.read_table(\n",
    "    'classificacoes_publicadas_planejamento_urbano_e_regional_demografia_2017_1496941695959.xls',\n",
    "                       encoding='latin_1')"
   ]
  },
  {
   "cell_type": "code",
   "execution_count": 5,
   "metadata": {},
   "outputs": [],
   "source": [
    "#Enfiar Hifen no ISSN\n",
    "prod_df['ISSN'] = prod_df.ISSN.str[:4] + '-' + prod_df.ISSN.str[4:]"
   ]
  },
  {
   "cell_type": "code",
   "execution_count": 6,
   "metadata": {},
   "outputs": [],
   "source": [
    "#Pegar o qualis respectivo de cara periodico da area\n",
    "prod_df = prod_df.merge(qualis, on='ISSN', how='left')"
   ]
  },
  {
   "cell_type": "code",
   "execution_count": 9,
   "metadata": {},
   "outputs": [
    {
     "data": {
      "text/html": [
       "<div>\n",
       "<style scoped>\n",
       "    .dataframe tbody tr th:only-of-type {\n",
       "        vertical-align: middle;\n",
       "    }\n",
       "\n",
       "    .dataframe tbody tr th {\n",
       "        vertical-align: top;\n",
       "    }\n",
       "\n",
       "    .dataframe thead th {\n",
       "        text-align: right;\n",
       "    }\n",
       "</style>\n",
       "<table border=\"1\" class=\"dataframe\">\n",
       "  <thead>\n",
       "    <tr style=\"text-align: right;\">\n",
       "      <th></th>\n",
       "      <th>Nome</th>\n",
       "      <th>Ano</th>\n",
       "      <th>ArtigosCompletos</th>\n",
       "      <th>ISSN</th>\n",
       "      <th>Título</th>\n",
       "      <th>Estrato</th>\n",
       "      <th>pontuacao</th>\n",
       "    </tr>\n",
       "  </thead>\n",
       "  <tbody>\n",
       "    <tr>\n",
       "      <th>0</th>\n",
       "      <td>Andreza Portella Ribeiro</td>\n",
       "      <td>2018</td>\n",
       "      <td>TRAMONTE, KEILA MODESTO ; Figueira, Rubens Ce...</td>\n",
       "      <td>0025-326X</td>\n",
       "      <td>MARINE POLLUTION BULLETIN.</td>\n",
       "      <td>A2</td>\n",
       "      <td>85.0</td>\n",
       "    </tr>\n",
       "    <tr>\n",
       "      <th>1</th>\n",
       "      <td>Andreza Portella Ribeiro</td>\n",
       "      <td>2018</td>\n",
       "      <td>TREVIZANI, TAILISI HOPPE ; PETTI, MONICA ANGE...</td>\n",
       "      <td>0025-326X</td>\n",
       "      <td>MARINE POLLUTION BULLETIN.</td>\n",
       "      <td>A2</td>\n",
       "      <td>85.0</td>\n",
       "    </tr>\n",
       "    <tr>\n",
       "      <th>2</th>\n",
       "      <td>Andreza Portella Ribeiro</td>\n",
       "      <td>2018</td>\n",
       "      <td>URIOESTE, A. ; Leitão, M. A. S. ; AQUINO, S. ;...</td>\n",
       "      <td>2316-3712</td>\n",
       "      <td>REVISTA DE GESTÃO EM SISTEMAS DE SAÚDE</td>\n",
       "      <td>B3</td>\n",
       "      <td>40.0</td>\n",
       "    </tr>\n",
       "    <tr>\n",
       "      <th>3</th>\n",
       "      <td>Andreza Portella Ribeiro</td>\n",
       "      <td>2018</td>\n",
       "      <td>URIOESTE, A. ; Leitão, M. A. S. ; AQUINO, S. ;...</td>\n",
       "      <td>2316-3712</td>\n",
       "      <td>REVISTA DE GESTÃO EM SISTEMAS DE SAÚDE</td>\n",
       "      <td>B3</td>\n",
       "      <td>40.0</td>\n",
       "    </tr>\n",
       "    <tr>\n",
       "      <th>4</th>\n",
       "      <td>Andreza Portella Ribeiro</td>\n",
       "      <td>2017</td>\n",
       "      <td>LAMANO FERREIRA, MAURÍCIO ; PORTELLA RIBEIRO,...</td>\n",
       "      <td>0013-9351</td>\n",
       "      <td>ENVIRONMENTAL RESEARCH (NEW YORK, N.Y. PRINT)</td>\n",
       "      <td>A1</td>\n",
       "      <td>100.0</td>\n",
       "    </tr>\n",
       "  </tbody>\n",
       "</table>\n",
       "</div>"
      ],
      "text/plain": [
       "                       Nome   Ano  \\\n",
       "0  Andreza Portella Ribeiro  2018   \n",
       "1  Andreza Portella Ribeiro  2018   \n",
       "2  Andreza Portella Ribeiro  2018   \n",
       "3  Andreza Portella Ribeiro  2018   \n",
       "4  Andreza Portella Ribeiro  2017   \n",
       "\n",
       "                                    ArtigosCompletos       ISSN  \\\n",
       "0   TRAMONTE, KEILA MODESTO ; Figueira, Rubens Ce...  0025-326X   \n",
       "1   TREVIZANI, TAILISI HOPPE ; PETTI, MONICA ANGE...  0025-326X   \n",
       "2  URIOESTE, A. ; Leitão, M. A. S. ; AQUINO, S. ;...  2316-3712   \n",
       "3  URIOESTE, A. ; Leitão, M. A. S. ; AQUINO, S. ;...  2316-3712   \n",
       "4   LAMANO FERREIRA, MAURÍCIO ; PORTELLA RIBEIRO,...  0013-9351   \n",
       "\n",
       "                                          Título Estrato  pontuacao  \n",
       "0                     MARINE POLLUTION BULLETIN.      A2       85.0  \n",
       "1                     MARINE POLLUTION BULLETIN.      A2       85.0  \n",
       "2         REVISTA DE GESTÃO EM SISTEMAS DE SAÚDE      B3       40.0  \n",
       "3         REVISTA DE GESTÃO EM SISTEMAS DE SAÚDE      B3       40.0  \n",
       "4  ENVIRONMENTAL RESEARCH (NEW YORK, N.Y. PRINT)      A1      100.0  "
      ]
     },
     "execution_count": 9,
     "metadata": {},
     "output_type": "execute_result"
    }
   ],
   "source": [
    "#Usar um dicionario para computar a pontuação \n",
    "pontuacao={\n",
    "    'A1':100,\n",
    "    'A2':85,\n",
    "    'B1':70,\n",
    "    'B2':50,\n",
    "    'B3':40,\n",
    "    'B4':20,\n",
    "    'B5':10\n",
    "}\n",
    "prod_df['pontuacao'] = prod_df.Estrato.apply(lambda x: pontuacao.get(x))\n",
    "prod_df.head()"
   ]
  },
  {
   "cell_type": "code",
   "execution_count": 8,
   "metadata": {},
   "outputs": [],
   "source": [
    "#exportar para Excel XLSX\n",
    "prod_df.to_excel('prod_cis.xlsx')"
   ]
  }
 ],
 "metadata": {
  "kernelspec": {
   "display_name": "Python 3",
   "language": "python",
   "name": "python3"
  },
  "language_info": {
   "codemirror_mode": {
    "name": "ipython",
    "version": 3
   },
   "file_extension": ".py",
   "mimetype": "text/x-python",
   "name": "python",
   "nbconvert_exporter": "python",
   "pygments_lexer": "ipython3",
   "version": "3.6.8"
  }
 },
 "nbformat": 4,
 "nbformat_minor": 2
}
